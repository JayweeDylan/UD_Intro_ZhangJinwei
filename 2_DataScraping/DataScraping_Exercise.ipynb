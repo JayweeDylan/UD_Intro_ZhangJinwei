{
 "cells": [
  {
   "cell_type": "code",
   "execution_count": 34,
   "id": "56dc052c",
   "metadata": {},
   "outputs": [
    {
     "name": "stdout",
     "output_type": "stream",
     "text": [
      "please enter the game type you want to search:Mario\n",
      "Nintendo UK's official site\n",
      "[b'', b'']\n",
      "[b'', b'']\n",
      "[b'https://www.nintendo.co.uk/Search/Search-299117.html?q=Mario&f=147394-86#allGroups']\n"
     ]
    }
   ],
   "source": [
    "# Import Selenium and its sub libraries\n",
    "import selenium \n",
    "\n",
    "from selenium import webdriver\n",
    "from selenium.webdriver.common.by import By\n",
    "from selenium.webdriver.common.keys import Keys\n",
    "from selenium.webdriver.support.ui import Select\n",
    "from selenium.webdriver.support.ui import WebDriverWait\n",
    "from selenium.webdriver.support import expected_conditions as EC\n",
    "from time import sleep\n",
    "\n",
    "url=\"https://www.nintendo.co.uk/\"\n",
    "\n",
    "# Define the search information of the games\n",
    "key=input('please enter the game type you want to search:')\n",
    "\n",
    "# Initialize the WebDriver (in this case, Chrome)\n",
    "driver = webdriver.Chrome()\n",
    "driver.get(url)\n",
    "print(driver.title)\n",
    "\n",
    "# Create lists to store the data\n",
    "games_list = []\n",
    "price_list=[]\n",
    "href_list=[]\n",
    "\n",
    "# Wait for the element to be clickable\n",
    "wait = WebDriverWait(driver, 10)\n",
    "label = wait.until(EC.element_to_be_clickable((By.XPATH, \"/html/body/div[2]/header/nav/ul/li[1]/button\")))\n",
    "label.click()\n",
    "\n",
    "#Step 1: identify search box\n",
    "game_name= wait.until(EC.element_to_be_clickable((\"name\",\"q\")))\n",
    "\n",
    "#Step 2: search the games\n",
    "game_name.send_keys(key) \n",
    "game_name.send_keys(Keys.RETURN)\n",
    "sleep(3)\n",
    "\n",
    "#see all results of the games\n",
    "result_page= wait.until(EC.element_to_be_clickable((By.XPATH,\"//*[@id='VA_MainSearch']/div[2]/div/div/div/div[2]/div[1]/p/a\")))\n",
    "result_page.click()\n",
    "\n",
    "#Step 3: get all games data\n",
    "games=driver.find_elements(\"class name\",\"col-xs-12\")\n",
    "\n",
    "#Create loop to iterate on the book list in order to find each item\n",
    "for i in range(len(games)):\n",
    "    try:          \n",
    "        #Find title per game\n",
    "        title = games[i].find_element(\"class name\",\"page-title-text\").text\n",
    "        \n",
    "        #Find the price\n",
    "        prices=games[i].find_element(\"class name\",\"price-small\").text\n",
    "        \n",
    "        #Find the link\n",
    "        link = games[i].find_element(\"link text\",title).get_attribute('href')\n",
    "         \n",
    "        #Add items to the existing lists\n",
    "        games_list.append(title.encode('utf-8'))\n",
    "        price_list.append(prices.encode('utf-8'))\n",
    "        href_list.append(link.encode('utf-8'))\n",
    "        \n",
    "        #Delay (good practice)\n",
    "        sleep(3)  \n",
    "        \n",
    "    except:\n",
    "        pass\n",
    "print(games_list)\n",
    "print(price_list)\n",
    "print(href_list)\n",
    "#Close the webpage\n",
    "driver.quit()"
   ]
  },
  {
   "cell_type": "code",
   "execution_count": 25,
   "id": "0546cdca",
   "metadata": {},
   "outputs": [],
   "source": [
    "#Import the library\n",
    "import csv \n",
    "\n",
    "#combine the lists\n",
    "data=zip(games_list,price_list,href_list)\n",
    "\n",
    "#Write all the data to a csv\n",
    "with open('nintendogame_data.csv', 'w',newline='') as csvfile: \n",
    "    writer = csv.writer(csvfile) \n",
    "    for row in data:\n",
    "        writer.writerow(row)"
   ]
  },
  {
   "cell_type": "code",
   "execution_count": null,
   "id": "8e7c56d7",
   "metadata": {},
   "outputs": [],
   "source": [
    "#read the produced csv\n",
    "with open(\"nintendogame_data.csv\", 'r',encoding='utf-8') as file:\n",
    "    csvreader = csv.reader(file)    \n",
    "    for url in csvreader:\n",
    "        print(url[0])"
   ]
  }
 ],
 "metadata": {
  "kernelspec": {
   "display_name": "Python 3 (ipykernel)",
   "language": "python",
   "name": "python3"
  },
  "language_info": {
   "codemirror_mode": {
    "name": "ipython",
    "version": 3
   },
   "file_extension": ".py",
   "mimetype": "text/x-python",
   "name": "python",
   "nbconvert_exporter": "python",
   "pygments_lexer": "ipython3",
   "version": "3.8.18"
  }
 },
 "nbformat": 4,
 "nbformat_minor": 5
}
