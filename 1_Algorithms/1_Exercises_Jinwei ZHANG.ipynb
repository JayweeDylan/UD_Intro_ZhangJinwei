{
 "cells": [
  {
   "cell_type": "markdown",
   "id": "38e188a5",
   "metadata": {},
   "source": [
    "# Exercise 00\n",
    "Write a piece of code that allocates a list of 20 integers and initializes each element by its index multiplied by 5. Print the result."
   ]
  },
  {
   "cell_type": "code",
   "execution_count": 1,
   "id": "01aa4f35",
   "metadata": {},
   "outputs": [
    {
     "name": "stdout",
     "output_type": "stream",
     "text": [
      "[5, 10, 15, 20, 25, 30, 35, 40, 45, 50, 55, 60, 65, 70, 75, 80, 85, 90, 95, 100]\n"
     ]
    }
   ],
   "source": [
    "list=[ ]\n",
    "\n",
    "for i in range(1,21):\n",
    "    list.append(i*5)\n",
    "\n",
    "print(list)    "
   ]
  },
  {
   "cell_type": "markdown",
   "id": "529d91ae",
   "metadata": {},
   "source": [
    "# Exercise 01\n",
    "Define a function that takes an integer as input, prints  all integers that it is divisable by, and returns the largest one."
   ]
  },
  {
   "cell_type": "code",
   "execution_count": 7,
   "id": "30e79132",
   "metadata": {},
   "outputs": [
    {
     "name": "stdout",
     "output_type": "stream",
     "text": [
      "please enter an integer:179\n",
      "179 is divisable by 1\n",
      "179 is divisable by 179\n",
      "the largest divisable number of 179 is 179\n"
     ]
    }
   ],
   "source": [
    "def find_largest_divisable(n):\n",
    "    largest_divisable=1\n",
    "    \n",
    "    for i in range(1,n+1):\n",
    "        if n%i==0:\n",
    "            print(str(n)+\" \"+'is divisable by'+\" \"+str(i))\n",
    "            largest_divisable=i\n",
    "    return largest_divisable\n",
    "\n",
    "n=int(input('please enter an integer:'))\n",
    "print('the largest divisable number of'+\" \"+str(n)+\" \"+'is'+\" \"+str(find_largest_divisable(n)))"
   ]
  },
  {
   "cell_type": "markdown",
   "id": "cfbe30d4",
   "metadata": {},
   "source": [
    "# Exercise 02\n",
    "- create a dictionary with 6 keys and values of your choice\n",
    "- write a function that takes a dictionary and a value as input and returns whether the value occurs as a key in the dictionary\n",
    "- write a function that takes a dictionary as input, and returns the dictionary but the keys are swapped with their values (resolve the issue if a value occurs twice!)"
   ]
  },
  {
   "cell_type": "code",
   "execution_count": 8,
   "id": "2123f1c6",
   "metadata": {},
   "outputs": [
    {
     "name": "stdout",
     "output_type": "stream",
     "text": [
      "{'Lebron': 6, 'MJ': 23, 'Kobe': 24, 'Curry': 30, 'Rose': 1, 'Harden': 13}\n"
     ]
    }
   ],
   "source": [
    "dict={\"Lebron\":6,\"MJ\":23,\"Kobe\":24,\"Curry\":30,\"Rose\":1,\"Harden\":13}\n",
    "print(dict)    "
   ]
  },
  {
   "cell_type": "code",
   "execution_count": 15,
   "id": "c7e6eda5",
   "metadata": {},
   "outputs": [
    {
     "name": "stdout",
     "output_type": "stream",
     "text": [
      "type the key you want to find in dict:Shark\n",
      "Shark is not the key of dict\n"
     ]
    }
   ],
   "source": [
    "def check_dict(d,key):\n",
    "    for i in d.keys():\n",
    "        if key==i:\n",
    "            return True\n",
    "    return False\n",
    "\n",
    "n=input('type the key you want to find in dict:')\n",
    "if check_dict(dict,n):\n",
    "    print(n+\" \"+'is the key of dict')\n",
    "else:\n",
    "    print(n+\" \"+'is not the key of dict')"
   ]
  },
  {
   "cell_type": "code",
   "execution_count": 21,
   "id": "0023e3bc",
   "metadata": {},
   "outputs": [
    {
     "name": "stdout",
     "output_type": "stream",
     "text": [
      "{1: ['a', 'f'], 2: ['b'], 3: ['c', 'd'], 5: ['e'], 4: ['g']}\n"
     ]
    }
   ],
   "source": [
    "dict_test={'a':1,'b':2,'c':3,'d':3,'e':5,'f':1,'g':4}\n",
    "\n",
    "def swapped_dict(d):\n",
    "    new_dict= {}\n",
    "    for k,v in d.items():\n",
    "        new_dict.setdefault(v, []).append(k)\n",
    "\n",
    "    return new_dict\n",
    "\n",
    "new=swapped_dict(dict_test)\n",
    "print(new)"
   ]
  },
  {
   "cell_type": "markdown",
   "id": "b4b4e426",
   "metadata": {},
   "source": [
    "# Exercise 03\n",
    "Define a function that creates a dictionary of the first n fibonacci numbers as values paired with their indices as keys. "
   ]
  },
  {
   "cell_type": "code",
   "execution_count": 20,
   "id": "7845b5a4",
   "metadata": {},
   "outputs": [
    {
     "name": "stdout",
     "output_type": "stream",
     "text": [
      "enter the first n numbers you want to get:10\n",
      "{1: 1, 2: 1, 3: 2, 4: 3, 5: 5, 6: 8, 7: 13, 8: 21, 9: 34, 10: 55, 11: 89}\n"
     ]
    }
   ],
   "source": [
    "def fibonacci_sequence(n):\n",
    "    p=[1,1]\n",
    "    for i in range(n+1):\n",
    "        if i>1:\n",
    "            p_new=p[i-1]+p[i-2]\n",
    "            p.append(p_new)\n",
    "    return p\n",
    "\n",
    "def fibonacci_dict(n):\n",
    "    f_dict={ }\n",
    "    for i in range(n+1):\n",
    "        f_dict[i+1]=fibonacci_sequence(n)[i]\n",
    "    return f_dict\n",
    "\n",
    "n=int(input('enter the first n numbers you want to get:'))\n",
    "print(fibonacci_dict(n))\n",
    "        \n",
    "        "
   ]
  },
  {
   "cell_type": "code",
   "execution_count": null,
   "id": "b1b8ee0a",
   "metadata": {},
   "outputs": [],
   "source": []
  }
 ],
 "metadata": {
  "kernelspec": {
   "display_name": "Python 3 (ipykernel)",
   "language": "python",
   "name": "python3"
  },
  "language_info": {
   "codemirror_mode": {
    "name": "ipython",
    "version": 3
   },
   "file_extension": ".py",
   "mimetype": "text/x-python",
   "name": "python",
   "nbconvert_exporter": "python",
   "pygments_lexer": "ipython3",
   "version": "3.11.5"
  }
 },
 "nbformat": 4,
 "nbformat_minor": 5
}
