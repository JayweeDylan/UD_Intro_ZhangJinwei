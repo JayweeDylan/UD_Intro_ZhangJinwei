{
 "cells": [
  {
   "cell_type": "markdown",
   "id": "26d7ed53",
   "metadata": {},
   "source": [
    "# Exercise 00\n",
    "Write a bit of code that prints Introduction to Programming to the console and execute the cell"
   ]
  },
  {
   "cell_type": "code",
   "execution_count": 16,
   "id": "85c319f6",
   "metadata": {},
   "outputs": [
    {
     "name": "stdout",
     "output_type": "stream",
     "text": [
      "Introduction to Programming\n"
     ]
    }
   ],
   "source": [
    "a='Introduction to Programming'\n",
    "\n",
    "print(a)"
   ]
  },
  {
   "cell_type": "markdown",
   "id": "2e4497f5",
   "metadata": {},
   "source": [
    "# Exercise 02\n",
    "Write some code to print your name, email, and age on separate lines. For each element first assign it to a variable and use the variable to print.\n",
    "\n",
    "Bonus: try to create the print statement for all variable in one line of code. (hint: '\\n' is the character for a new line)"
   ]
  },
  {
   "cell_type": "code",
   "execution_count": 38,
   "id": "4482193d",
   "metadata": {},
   "outputs": [
    {
     "name": "stdout",
     "output_type": "stream",
     "text": [
      "type the number:30\n",
      "22 30\n",
      "JinweiZhang\n",
      "22\n",
      "ucbvhbh@ucl.ac.uk\n"
     ]
    }
   ],
   "source": [
    "name='JinweiZhang'\n",
    "age=22\n",
    "email='ucbvhbh@ucl.ac.uk'\n",
    "\n",
    "print(str(name)+'\\n'+str(age)+'\\n'+str(email))"
   ]
  },
  {
   "cell_type": "markdown",
   "id": "dc70a86f",
   "metadata": {},
   "source": [
    "# Exercise 03\n",
    "Print the numbers 0, 178, -21, 2938 divided by 49, 436 multiplied with 9948 and 12 to the power of 20\n",
    "\n",
    "(Hint: Look up the documentation of basic arithmetic operators)"
   ]
  },
  {
   "cell_type": "code",
   "execution_count": 22,
   "id": "4bcd0565",
   "metadata": {},
   "outputs": [
    {
     "name": "stdout",
     "output_type": "stream",
     "text": [
      "0.0\n",
      "0.0\n",
      "0.0\n",
      "0.0\n",
      "3443.7551020408164\n",
      "1.3926719972564298e+22\n",
      "387.0275229357798\n",
      "1.5651588959991984e+21\n",
      "-406.2857142857143\n",
      "-1.6430399967632034e+21\n",
      "-45.6605504587156\n",
      "-1.8465357761788297e+20\n",
      "56841.30612244898\n",
      "2.298691195471568e+23\n",
      "6388.128440366972\n",
      "2.583391481149239e+22\n"
     ]
    }
   ],
   "source": [
    "a=[0,178,-21,2938]\n",
    "b=[49,436]\n",
    "c=[948,12**20]\n",
    "\n",
    "for i in a:\n",
    "    for s in b:\n",
    "        for x in c:\n",
    "            sum=i/s*x\n",
    "            print(sum)\n",
    "        "
   ]
  },
  {
   "cell_type": "markdown",
   "id": "75fb9f0e",
   "metadata": {},
   "source": [
    "# Exercise 04\n",
    "Print sin(200), cos(100), tan(Π/4)\n",
    "\n",
    "(Hint: Look up for how to use trigonometric function, and how to get the value of Π.)"
   ]
  },
  {
   "cell_type": "code",
   "execution_count": 12,
   "id": "12e3472f",
   "metadata": {},
   "outputs": [
    {
     "name": "stdout",
     "output_type": "stream",
     "text": [
      "-0.8732972972139946\n",
      "0.8623188722876839\n",
      "0.9999999999999999\n"
     ]
    }
   ],
   "source": [
    "import math\n",
    "\n",
    "print(math.sin(200))\n",
    "print(math.cos(100))\n",
    "print(math.tan(math.pi/4))"
   ]
  },
  {
   "cell_type": "markdown",
   "id": "291cf0d3",
   "metadata": {},
   "source": [
    "# Exercise 05\n",
    "Write a program to read your first and last names from the console seperately, and then print them on the console together, separated by a space."
   ]
  },
  {
   "cell_type": "code",
   "execution_count": 14,
   "id": "d87aa1b8",
   "metadata": {},
   "outputs": [
    {
     "name": "stdout",
     "output_type": "stream",
     "text": [
      "please type your first name:Jinwei\n",
      "please type your surname:ZHANG\n",
      "Jinwei ZHANG\n"
     ]
    }
   ],
   "source": [
    "name1=input('please type your first name:')\n",
    "name2=input('please type your surname:')\n",
    "\n",
    "print(name1+' '+name2)"
   ]
  },
  {
   "cell_type": "markdown",
   "id": "e2e6d4db",
   "metadata": {},
   "source": [
    "# Exercise 06\n",
    "Write a program that determines whether a number given as user input is positive or negative\n",
    "\n",
    "You will need to convert the console input from a string to a number first!"
   ]
  },
  {
   "cell_type": "code",
   "execution_count": 20,
   "id": "1050aee0",
   "metadata": {},
   "outputs": [
    {
     "name": "stdout",
     "output_type": "stream",
     "text": [
      "please type a number:15485\n",
      "the given number is positive\n"
     ]
    }
   ],
   "source": [
    "num=int(input('please type a number:'))\n",
    "\n",
    "if num >0:\n",
    "    print('the given number is positive')\n",
    "elif num==0:\n",
    "    print('the given number is neither positive nor negative,it is zero')\n",
    "else:\n",
    "    print('the given number is negative')"
   ]
  },
  {
   "cell_type": "markdown",
   "id": "63bbbef8",
   "metadata": {},
   "source": [
    "# Exercise 07\n",
    "Write a program that picks a random number between 1-20 and makes the user guess until they get the number right. Then print a congratulations message\n",
    "\n",
    "(Find out yourself how to generate a random integer)\n",
    "Bonus: make the user choose the range within which they have to guess\n",
    "Bonus: keep track of how many guesses were made and print this at the end"
   ]
  },
  {
   "cell_type": "code",
   "execution_count": 71,
   "id": "38d9c1f9",
   "metadata": {},
   "outputs": [
    {
     "name": "stdout",
     "output_type": "stream",
     "text": [
      "please guess the number between 1-20 (including 1 and 20):11\n",
      "your number is larger than the target, please guess a smaller one:8\n",
      "your number is larger than the target, please guess a smaller one:6\n",
      "your number is larger than the target, please guess a smaller one:4\n",
      "your number is larger than the target, please guess a smaller one:2\n",
      "your number is smaller than the target, please guess a larger one:3\n",
      "Congratulations! Your number is correct!\n",
      "your have tried 6 times to get the correct answerthe all numbers you guessed are:[11, 8, 6, 4, 2, 3]\n"
     ]
    }
   ],
   "source": [
    "import random\n",
    "key=int(random.randint(1,20))\n",
    "result=[]\n",
    "attempt=0\n",
    "\n",
    "num=int(input('please guess the number between 1-20 (including 1 and 20):'))\n",
    "\n",
    "while num != key:\n",
    "    if num<key:\n",
    "        result.append(num)\n",
    "        attempt+=1\n",
    "        num=int(input('your number is smaller than the target, please guess a larger one:'))\n",
    "    elif num>key:\n",
    "        result.append(num)\n",
    "        attempt+=1\n",
    "        num=int(input('your number is larger than the target, please guess a smaller one:'))\n",
    "\n",
    "print('Congratulations! Your number is correct!')\n",
    "result.append(num)\n",
    "attempt+=1\n",
    "\n",
    "print('your have tried'+\" \"+str(attempt)+\" \"+'times to get the correct answer'+'the all numbers you guessed are:'+str(result))\n"
   ]
  },
  {
   "cell_type": "markdown",
   "id": "9ec61870",
   "metadata": {},
   "source": [
    "# Exercise 08\n",
    "Ask a sentence as input, then print the words in alphabetical order. Hint: look up how to split up a string"
   ]
  },
  {
   "cell_type": "code",
   "execution_count": 41,
   "id": "2414388f",
   "metadata": {},
   "outputs": [
    {
     "name": "stdout",
     "output_type": "stream",
     "text": [
      "please type a short sentence(at least 2 words):You Are My Friend\n",
      "['You', 'Are', 'My', 'Friend']\n",
      "['Are', 'Friend', 'My', 'You']\n",
      "Are\n",
      "Friend\n",
      "My\n",
      "You\n"
     ]
    }
   ],
   "source": [
    "sentence=input('please type a short sentence(at least 2 words):')\n",
    "\n",
    "words=sentence.split()\n",
    "words.sort()\n",
    "\n",
    "for a in words:\n",
    "    print(a)   "
   ]
  },
  {
   "cell_type": "markdown",
   "id": "92bec30e",
   "metadata": {},
   "source": [
    "# Exercise 09\n",
    "Write a program using for loops to print a christmas tree of x lines high specified by the user. (use for loops) so for instance, a chrismas tree of 4 high should looks like this:\n",
    "\n",
    "\n",
    "    *\n",
    "   ***\n",
    "  *****\n",
    " *******\n",
    "    |\n",
    "\n",
    "hint: first combine strings into a variable before printing"
   ]
  },
  {
   "cell_type": "code",
   "execution_count": 56,
   "id": "090cdb8b",
   "metadata": {},
   "outputs": [
    {
     "name": "stdout",
     "output_type": "stream",
     "text": [
      "please type how many lines height tree that you want:7\n",
      "      *\n",
      "     ***\n",
      "    *****\n",
      "   *******\n",
      "  *********\n",
      " ***********\n",
      "*************\n",
      "      |\n",
      "\n"
     ]
    }
   ],
   "source": [
    "a=int(input('please type how many lines height tree that you want:'))\n",
    "for i in range(1,a+2):\n",
    "    if i <(a+1):\n",
    "        for j in range(a-i):\n",
    "            print(' ',end=\"\")\n",
    "        for k in range(2*i-1):\n",
    "            print('*',end=\"\")\n",
    "    else:\n",
    "        for b in range(i-2):\n",
    "            print(' ',end=\"\")\n",
    "        print('|')\n",
    "        \n",
    "    print()"
   ]
  },
  {
   "cell_type": "markdown",
   "id": "adedbd53",
   "metadata": {},
   "source": [
    "# Exercise 10\n",
    "Write a piece of code that prints the first numbers of the padovan sequence"
   ]
  },
  {
   "cell_type": "code",
   "execution_count": 75,
   "id": "4f10e9c0",
   "metadata": {},
   "outputs": [
    {
     "name": "stdout",
     "output_type": "stream",
     "text": [
      "please enter the terms of the number in padovan sequence: 20\n",
      "The first n items of padovan sequence are：\n",
      "1 1 1 2 2 3 4 5 7 9 12 16 21 28 37 49 65 86 114 151 "
     ]
    }
   ],
   "source": [
    "def padovan_sequence(n):\n",
    "    padovan=[1,1,1]\n",
    "    \n",
    "    for i in range(3):\n",
    "        print(padovan[1],end=\" \")\n",
    "    \n",
    "    for i in range(3,n):\n",
    "        new=padovan[i-2]+padovan[i-3]\n",
    "        padovan.append(new)\n",
    "        print(new,end=\" \")\n",
    "\n",
    "n=int(input('please enter the terms of the number in padovan sequence: '))\n",
    "print('The first n items of padovan sequence are：')\n",
    "padovan_sequence(n)"
   ]
  }
 ],
 "metadata": {
  "kernelspec": {
   "display_name": "Python 3 (ipykernel)",
   "language": "python",
   "name": "python3"
  },
  "language_info": {
   "codemirror_mode": {
    "name": "ipython",
    "version": 3
   },
   "file_extension": ".py",
   "mimetype": "text/x-python",
   "name": "python",
   "nbconvert_exporter": "python",
   "pygments_lexer": "ipython3",
   "version": "3.11.5"
  }
 },
 "nbformat": 4,
 "nbformat_minor": 5
}
